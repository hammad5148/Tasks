{
 "cells": [
  {
   "cell_type": "markdown",
   "id": "a989ee22",
   "metadata": {},
   "source": [
    "Task 1 (BY:Hammad Mohammad)"
   ]
  },
  {
   "cell_type": "code",
   "execution_count": null,
   "id": "4e313f99",
   "metadata": {},
   "outputs": [],
   "source": [
    "import numpy as np\n",
    "import matplotlib.pyplot as plt\n",
    "import pandas as pd\n",
    "import seaborn as sns "
   ]
  },
  {
   "cell_type": "markdown",
   "id": "c6706613",
   "metadata": {},
   "source": [
    "1.Loading Dataset student_performance"
   ]
  },
  {
   "cell_type": "code",
   "execution_count": null,
   "id": "a89f430f",
   "metadata": {},
   "outputs": [],
   "source": [
    "df=pd.read_csv(r'C:\\Users\\ABC\\Desktop\\student_performance.csv')"
   ]
  },
  {
   "cell_type": "code",
   "execution_count": null,
   "id": "91c2452f",
   "metadata": {},
   "outputs": [],
   "source": [
    "df.head()"
   ]
  },
  {
   "cell_type": "code",
   "execution_count": null,
   "id": "afb59e57",
   "metadata": {},
   "outputs": [],
   "source": [
    "df.shape"
   ]
  },
  {
   "cell_type": "code",
   "execution_count": null,
   "id": "d2e4ca78",
   "metadata": {},
   "outputs": [],
   "source": [
    "df.info()"
   ]
  },
  {
   "cell_type": "code",
   "execution_count": null,
   "id": "ba7d5ece",
   "metadata": {},
   "outputs": [],
   "source": [
    "df['parental_education_level'].fillna(value='Nan',inplace=True)"
   ]
  },
  {
   "cell_type": "markdown",
   "id": "3b41c89a",
   "metadata": {},
   "source": [
    "2.Total number of students"
   ]
  },
  {
   "cell_type": "code",
   "execution_count": null,
   "id": "0755133c",
   "metadata": {},
   "outputs": [],
   "source": [
    "df['student_id'].count()"
   ]
  },
  {
   "cell_type": "markdown",
   "id": "1f0f2e33",
   "metadata": {},
   "source": [
    "3.Students who studied more than 2 hours"
   ]
  },
  {
   "cell_type": "code",
   "execution_count": null,
   "id": "90d024df",
   "metadata": {},
   "outputs": [],
   "source": [
    "(df['study_hours_per_day']>2).sum()"
   ]
  },
  {
   "cell_type": "code",
   "execution_count": null,
   "id": "7cd8f8a7",
   "metadata": {},
   "outputs": [],
   "source": [
    "df['study_hours_per_day'].max()\n"
   ]
  },
  {
   "cell_type": "code",
   "execution_count": null,
   "id": "99d86ba1",
   "metadata": {},
   "outputs": [],
   "source": [
    "df['study_hours_per_day'].min()"
   ]
  },
  {
   "cell_type": "code",
   "execution_count": null,
   "id": "19d9a774",
   "metadata": {},
   "outputs": [],
   "source": [
    "plt.hist(df['study_hours_per_day'])\n",
    "plt.xlabel('Study Hours')\n",
    "plt.xticks(np.arange(0,10))"
   ]
  },
  {
   "cell_type": "markdown",
   "id": "590d2020",
   "metadata": {},
   "source": [
    "4.Students who passed the test\n",
    "(Let the passing marks be 35)"
   ]
  },
  {
   "cell_type": "code",
   "execution_count": null,
   "id": "d8ed8bef",
   "metadata": {},
   "outputs": [],
   "source": [
    "df.head(2)"
   ]
  },
  {
   "cell_type": "code",
   "execution_count": null,
   "id": "c3047914",
   "metadata": {},
   "outputs": [],
   "source": [
    "(df['exam_score']>=35).sum()"
   ]
  },
  {
   "cell_type": "code",
   "execution_count": null,
   "id": "9f4f385d",
   "metadata": {},
   "outputs": [],
   "source": [
    "plt.hist(df['exam_score'])\n",
    "plt.xlabel('Score')\n",
    "plt.xticks(np.arange(0,100,35))\n",
    "sns.set_style('whitegrid')"
   ]
  },
  {
   "cell_type": "markdown",
   "id": "52e4ad19",
   "metadata": {},
   "source": [
    "5. Students who studied more than 2 hours and passed\n"
   ]
  },
  {
   "cell_type": "code",
   "execution_count": null,
   "id": "a8b1142b",
   "metadata": {},
   "outputs": [],
   "source": [
    "((df['study_hours_per_day']>2)&(df['exam_score']>=35)).sum()"
   ]
  },
  {
   "cell_type": "markdown",
   "id": "549b99ec",
   "metadata": {},
   "source": [
    "6. Percentage of students who passed among those who studied > 2 hours\n"
   ]
  },
  {
   "cell_type": "code",
   "execution_count": null,
   "id": "0307ab69",
   "metadata": {},
   "outputs": [],
   "source": [
    "per=((df['study_hours_per_day']>2)&(df['exam_score']>=35)).mean()*100\n",
    "print(f'{per:.2f}%')"
   ]
  },
  {
   "cell_type": "markdown",
   "id": "6b8c4b62",
   "metadata": {},
   "source": [
    " Probability that a student studied more than 2 hours given they passed(Bayes Theorem):\n"
   ]
  },
  {
   "cell_type": "code",
   "execution_count": null,
   "id": "38b217e7",
   "metadata": {},
   "outputs": [],
   "source": [
    "prior=(df['study_hours_per_day']>2).mean() #Probability that Student has studied more than 2 hours"
   ]
  },
  {
   "cell_type": "code",
   "execution_count": null,
   "id": "ebd764ed",
   "metadata": {},
   "outputs": [],
   "source": [
    "marginal=(df['exam_score']>=35).mean() #probability that student is passed\n"
   ]
  },
  {
   "cell_type": "code",
   "execution_count": null,
   "id": "13262ffb",
   "metadata": {},
   "outputs": [],
   "source": [
    "likelihood=(((df['study_hours_per_day']>2)&(df['exam_score']>=35)).mean())/prior #Probability that student is passed given that they study more than 2 hours"
   ]
  },
  {
   "cell_type": "code",
   "execution_count": null,
   "id": "100424e4",
   "metadata": {},
   "outputs": [],
   "source": [
    "posterior=(prior*likelihood)/marginal"
   ]
  },
  {
   "cell_type": "code",
   "execution_count": null,
   "id": "eb4dd74e",
   "metadata": {},
   "outputs": [],
   "source": [
    "print(f'{posterior*100:.2f}%')"
   ]
  }
 ],
 "metadata": {
  "kernelspec": {
   "display_name": "base",
   "language": "python",
   "name": "python3"
  },
  "language_info": {
   "codemirror_mode": {
    "name": "ipython",
    "version": 3
   },
   "file_extension": ".py",
   "mimetype": "text/x-python",
   "name": "python",
   "nbconvert_exporter": "python",
   "pygments_lexer": "ipython3",
   "version": "3.12.7"
  }
 },
 "nbformat": 4,
 "nbformat_minor": 5
}
